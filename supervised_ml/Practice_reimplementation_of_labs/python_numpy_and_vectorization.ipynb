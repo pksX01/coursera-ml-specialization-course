{
 "cells": [
  {
   "cell_type": "code",
   "execution_count": 3,
   "metadata": {},
   "outputs": [],
   "source": [
    "import numpy as np\n",
    "import time"
   ]
  },
  {
   "cell_type": "markdown",
   "metadata": {},
   "source": [
    "Vector Creation"
   ]
  },
  {
   "cell_type": "code",
   "execution_count": 7,
   "metadata": {},
   "outputs": [],
   "source": [
    "def print_f(arr):\n",
    "    print(f\"array = {arr}, shape = {arr.shape}, data type = {a.dtype}\")"
   ]
  },
  {
   "cell_type": "code",
   "execution_count": 8,
   "metadata": {},
   "outputs": [
    {
     "name": "stdout",
     "output_type": "stream",
     "text": [
      "array = [0. 0. 0. 0.], shape = (4,), data type = float64\n",
      "array = [0. 0. 0. 0.], shape = (4,), data type = float64\n",
      "array = [0.61798134 0.20372676 0.51101958 0.99449053], shape = (4,), data type = float64\n"
     ]
    }
   ],
   "source": [
    "a = np.zeros(4); print_f(a)\n",
    "a = np.zeros((4,)); print_f(a)\n",
    "a = np.random.random_sample(4); print_f(a)"
   ]
  },
  {
   "cell_type": "code",
   "execution_count": 9,
   "metadata": {},
   "outputs": [
    {
     "name": "stdout",
     "output_type": "stream",
     "text": [
      "array = [0.17149498 0.02908787 0.49434967 0.6352317 ], shape = (4,), data type = float64\n"
     ]
    }
   ],
   "source": [
    "a = np.random.rand(4); print_f(a)"
   ]
  },
  {
   "cell_type": "code",
   "execution_count": 11,
   "metadata": {},
   "outputs": [
    {
     "name": "stdout",
     "output_type": "stream",
     "text": [
      "array = [0. 1. 2. 3.], shape = (4,), data type = float64\n"
     ]
    }
   ],
   "source": [
    "a = np.arange(4.); print_f(a)"
   ]
  },
  {
   "cell_type": "code",
   "execution_count": 13,
   "metadata": {},
   "outputs": [
    {
     "name": "stdout",
     "output_type": "stream",
     "text": [
      "array = [5 4 1 2 3], shape = (5,), data type = int64\n",
      "array = [5. 4. 1. 2. 3.], shape = (5,), data type = float64\n"
     ]
    }
   ],
   "source": [
    "a = np.array([5, 4, 1, 2, 3]); print_f(a)\n",
    "a = np.array([5.,4.,1.,2.,3.]); print_f(a)"
   ]
  },
  {
   "cell_type": "markdown",
   "metadata": {},
   "source": [
    "Single Vector operations"
   ]
  },
  {
   "cell_type": "code",
   "execution_count": 19,
   "metadata": {},
   "outputs": [
    {
     "data": {
      "text/plain": [
       "array([5., 4., 1., 2., 3.])"
      ]
     },
     "execution_count": 19,
     "metadata": {},
     "output_type": "execute_result"
    }
   ],
   "source": [
    "a"
   ]
  },
  {
   "cell_type": "code",
   "execution_count": 14,
   "metadata": {},
   "outputs": [
    {
     "name": "stdout",
     "output_type": "stream",
     "text": [
      "array = [-5. -4. -1. -2. -3.], shape = (5,), data type = float64\n"
     ]
    }
   ],
   "source": [
    "b = -a\n",
    "print_f(b)"
   ]
  },
  {
   "cell_type": "code",
   "execution_count": 15,
   "metadata": {},
   "outputs": [
    {
     "data": {
      "text/plain": [
       "array([25., 16.,  1.,  4.,  9.])"
      ]
     },
     "execution_count": 15,
     "metadata": {},
     "output_type": "execute_result"
    }
   ],
   "source": [
    "a ** 2"
   ]
  },
  {
   "cell_type": "code",
   "execution_count": 22,
   "metadata": {},
   "outputs": [
    {
     "data": {
      "text/plain": [
       "array([25., 16.,  1.,  4.,  9.])"
      ]
     },
     "execution_count": 22,
     "metadata": {},
     "output_type": "execute_result"
    }
   ],
   "source": [
    "np.square(a)"
   ]
  },
  {
   "cell_type": "code",
   "execution_count": 23,
   "metadata": {},
   "outputs": [
    {
     "data": {
      "text/plain": [
       "array([2.23606798, 2.        , 1.        , 1.41421356, 1.73205081])"
      ]
     },
     "execution_count": 23,
     "metadata": {},
     "output_type": "execute_result"
    }
   ],
   "source": [
    "np.sqrt(a)"
   ]
  },
  {
   "cell_type": "code",
   "execution_count": 16,
   "metadata": {},
   "outputs": [
    {
     "data": {
      "text/plain": [
       "3.0"
      ]
     },
     "execution_count": 16,
     "metadata": {},
     "output_type": "execute_result"
    }
   ],
   "source": [
    "np.mean(a)"
   ]
  },
  {
   "cell_type": "code",
   "execution_count": 17,
   "metadata": {},
   "outputs": [
    {
     "data": {
      "text/plain": [
       "15.0"
      ]
     },
     "execution_count": 17,
     "metadata": {},
     "output_type": "execute_result"
    }
   ],
   "source": [
    "np.sum(a)"
   ]
  },
  {
   "cell_type": "code",
   "execution_count": 18,
   "metadata": {},
   "outputs": [
    {
     "data": {
      "text/plain": [
       "5.0"
      ]
     },
     "execution_count": 18,
     "metadata": {},
     "output_type": "execute_result"
    }
   ],
   "source": [
    "np.max(a)"
   ]
  },
  {
   "cell_type": "code",
   "execution_count": 20,
   "metadata": {},
   "outputs": [
    {
     "data": {
      "text/plain": [
       "1.0"
      ]
     },
     "execution_count": 20,
     "metadata": {},
     "output_type": "execute_result"
    }
   ],
   "source": [
    "np.min(a)"
   ]
  },
  {
   "cell_type": "markdown",
   "metadata": {},
   "source": [
    "Vector to Vector Operations"
   ]
  },
  {
   "cell_type": "code",
   "execution_count": 27,
   "metadata": {},
   "outputs": [
    {
     "data": {
      "text/plain": [
       "array([ 0,  1,  2,  3,  4,  5,  6,  7,  8,  9, 10, 11, 12, 13, 14, 15, 16,\n",
       "       17, 18, 19])"
      ]
     },
     "execution_count": 27,
     "metadata": {},
     "output_type": "execute_result"
    }
   ],
   "source": [
    "a = np.arange(20)\n",
    "a"
   ]
  },
  {
   "cell_type": "code",
   "execution_count": 28,
   "metadata": {},
   "outputs": [
    {
     "name": "stdout",
     "output_type": "stream",
     "text": [
      "a:\n",
      "array = [0 1 2 3 4 5 6 7 8 9], shape = (10,), data type = int64\n",
      "b:\n",
      "array = [10 11 12 13 14 15 16 17 18 19], shape = (10,), data type = int64\n"
     ]
    }
   ],
   "source": [
    "b = a[10:]\n",
    "a = a[:10]\n",
    "print('a:'); print_f(a)\n",
    "print('b:'); print_f(b)"
   ]
  },
  {
   "cell_type": "code",
   "execution_count": 29,
   "metadata": {},
   "outputs": [
    {
     "data": {
      "text/plain": [
       "array([10, 12, 14, 16, 18, 20, 22, 24, 26, 28])"
      ]
     },
     "execution_count": 29,
     "metadata": {},
     "output_type": "execute_result"
    }
   ],
   "source": [
    "a + b"
   ]
  },
  {
   "cell_type": "code",
   "execution_count": 30,
   "metadata": {},
   "outputs": [
    {
     "data": {
      "text/plain": [
       "array([10, 10, 10, 10, 10, 10, 10, 10, 10, 10])"
      ]
     },
     "execution_count": 30,
     "metadata": {},
     "output_type": "execute_result"
    }
   ],
   "source": [
    "b - a"
   ]
  },
  {
   "cell_type": "code",
   "execution_count": 31,
   "metadata": {},
   "outputs": [
    {
     "data": {
      "text/plain": [
       "array([  0,  11,  24,  39,  56,  75,  96, 119, 144, 171])"
      ]
     },
     "execution_count": 31,
     "metadata": {},
     "output_type": "execute_result"
    }
   ],
   "source": [
    "a * b"
   ]
  },
  {
   "cell_type": "code",
   "execution_count": 32,
   "metadata": {},
   "outputs": [
    {
     "data": {
      "text/plain": [
       "array([0.        , 0.09090909, 0.16666667, 0.23076923, 0.28571429,\n",
       "       0.33333333, 0.375     , 0.41176471, 0.44444444, 0.47368421])"
      ]
     },
     "execution_count": 32,
     "metadata": {},
     "output_type": "execute_result"
    }
   ],
   "source": [
    "a / b"
   ]
  },
  {
   "cell_type": "markdown",
   "metadata": {},
   "source": [
    "Vector - Dot Product"
   ]
  },
  {
   "cell_type": "code",
   "execution_count": 35,
   "metadata": {},
   "outputs": [],
   "source": [
    "def dot_product(a, b):\n",
    "    assert a.shape == b.shape, \"shape of a and b should be same\"\n",
    "    x = 0\n",
    "    for i in range(a.shape[0]):\n",
    "        x += a[i] * b[i]\n",
    "    return x"
   ]
  },
  {
   "cell_type": "code",
   "execution_count": 39,
   "metadata": {},
   "outputs": [
    {
     "ename": "AssertionError",
     "evalue": "shape of a and b should be same",
     "output_type": "error",
     "traceback": [
      "\u001b[0;31m---------------------------------------------------------------------------\u001b[0m",
      "\u001b[0;31mAssertionError\u001b[0m                            Traceback (most recent call last)",
      "\u001b[1;32m/Users/rudra/Tech/coursera_ml_specialization/supervised_ml/python_numpy_and_vectorization.ipynb Cell 27'\u001b[0m in \u001b[0;36m<cell line: 4>\u001b[0;34m()\u001b[0m\n\u001b[1;32m      <a href='vscode-notebook-cell:/Users/rudra/Tech/coursera_ml_specialization/supervised_ml/python_numpy_and_vectorization.ipynb#ch0000027?line=1'>2</a>\u001b[0m a \u001b[39m=\u001b[39m np\u001b[39m.\u001b[39mrandom\u001b[39m.\u001b[39mrand(\u001b[39m4\u001b[39m)\n\u001b[1;32m      <a href='vscode-notebook-cell:/Users/rudra/Tech/coursera_ml_specialization/supervised_ml/python_numpy_and_vectorization.ipynb#ch0000027?line=2'>3</a>\u001b[0m b \u001b[39m=\u001b[39m np\u001b[39m.\u001b[39mrandom\u001b[39m.\u001b[39mrand(\u001b[39m3\u001b[39m)\n\u001b[0;32m----> <a href='vscode-notebook-cell:/Users/rudra/Tech/coursera_ml_specialization/supervised_ml/python_numpy_and_vectorization.ipynb#ch0000027?line=3'>4</a>\u001b[0m dot_product(a, b)\n",
      "\u001b[1;32m/Users/rudra/Tech/coursera_ml_specialization/supervised_ml/python_numpy_and_vectorization.ipynb Cell 26'\u001b[0m in \u001b[0;36mdot_product\u001b[0;34m(a, b)\u001b[0m\n\u001b[1;32m      <a href='vscode-notebook-cell:/Users/rudra/Tech/coursera_ml_specialization/supervised_ml/python_numpy_and_vectorization.ipynb#ch0000025?line=0'>1</a>\u001b[0m \u001b[39mdef\u001b[39;00m \u001b[39mdot_product\u001b[39m(a, b):\n\u001b[0;32m----> <a href='vscode-notebook-cell:/Users/rudra/Tech/coursera_ml_specialization/supervised_ml/python_numpy_and_vectorization.ipynb#ch0000025?line=1'>2</a>\u001b[0m     \u001b[39massert\u001b[39;00m a\u001b[39m.\u001b[39mshape \u001b[39m==\u001b[39m b\u001b[39m.\u001b[39mshape, \u001b[39m\"\u001b[39m\u001b[39mshape of a and b should be same\u001b[39m\u001b[39m\"\u001b[39m\n\u001b[1;32m      <a href='vscode-notebook-cell:/Users/rudra/Tech/coursera_ml_specialization/supervised_ml/python_numpy_and_vectorization.ipynb#ch0000025?line=2'>3</a>\u001b[0m     x \u001b[39m=\u001b[39m \u001b[39m0\u001b[39m\n\u001b[1;32m      <a href='vscode-notebook-cell:/Users/rudra/Tech/coursera_ml_specialization/supervised_ml/python_numpy_and_vectorization.ipynb#ch0000025?line=3'>4</a>\u001b[0m     \u001b[39mfor\u001b[39;00m i \u001b[39min\u001b[39;00m \u001b[39mrange\u001b[39m(a\u001b[39m.\u001b[39mshape[\u001b[39m0\u001b[39m]):\n",
      "\u001b[0;31mAssertionError\u001b[0m: shape of a and b should be same"
     ]
    }
   ],
   "source": [
    "# Shape of both vectors should be same for calculating dot product\n",
    "a = np.random.rand(4)\n",
    "b = np.random.rand(3)\n",
    "dot_product(a, b) #This should throw an error"
   ]
  },
  {
   "cell_type": "code",
   "execution_count": 40,
   "metadata": {},
   "outputs": [
    {
     "ename": "ValueError",
     "evalue": "shapes (4,) and (3,) not aligned: 4 (dim 0) != 3 (dim 0)",
     "output_type": "error",
     "traceback": [
      "\u001b[0;31m---------------------------------------------------------------------------\u001b[0m",
      "\u001b[0;31mValueError\u001b[0m                                Traceback (most recent call last)",
      "\u001b[1;32m/Users/rudra/Tech/coursera_ml_specialization/supervised_ml/python_numpy_and_vectorization.ipynb Cell 28'\u001b[0m in \u001b[0;36m<cell line: 1>\u001b[0;34m()\u001b[0m\n\u001b[0;32m----> <a href='vscode-notebook-cell:/Users/rudra/Tech/coursera_ml_specialization/supervised_ml/python_numpy_and_vectorization.ipynb#ch0000031?line=0'>1</a>\u001b[0m a\u001b[39m.\u001b[39;49mdot(b)\n",
      "\u001b[0;31mValueError\u001b[0m: shapes (4,) and (3,) not aligned: 4 (dim 0) != 3 (dim 0)"
     ]
    }
   ],
   "source": [
    "a.dot(b)"
   ]
  },
  {
   "cell_type": "code",
   "execution_count": 41,
   "metadata": {},
   "outputs": [
    {
     "data": {
      "text/plain": [
       "0.5890611732190218"
      ]
     },
     "execution_count": 41,
     "metadata": {},
     "output_type": "execute_result"
    }
   ],
   "source": [
    "a = np.random.rand(4)\n",
    "b = np.random.rand(4)\n",
    "dot_product(a, b) "
   ]
  },
  {
   "cell_type": "code",
   "execution_count": 42,
   "metadata": {},
   "outputs": [
    {
     "data": {
      "text/plain": [
       "0.5890611732190218"
      ]
     },
     "execution_count": 42,
     "metadata": {},
     "output_type": "execute_result"
    }
   ],
   "source": [
    "a.dot(b)"
   ]
  },
  {
   "cell_type": "markdown",
   "metadata": {},
   "source": [
    "Vectorization vs for - loop"
   ]
  },
  {
   "cell_type": "code",
   "execution_count": 45,
   "metadata": {},
   "outputs": [],
   "source": [
    "def dot_product(a, b):\n",
    "    assert a.shape == b.shape, \"shape of a and b should be same\"\n",
    "    x = 0\n",
    "    for i in range(a.shape[0]):\n",
    "        x += a[i] * b[i]\n",
    "    return x"
   ]
  },
  {
   "cell_type": "code",
   "execution_count": 44,
   "metadata": {},
   "outputs": [
    {
     "name": "stdout",
     "output_type": "stream",
     "text": [
      "time taken in Dot product using for - loop = 1.4807 ms\n",
      "time taken in Dot product using Vectorization = 0.0030 ms\n"
     ]
    }
   ],
   "source": [
    "np.random.seed(42)\n",
    "a = np.random.rand(10000000)\n",
    "b = np.random.rand(10000000)\n",
    "\n",
    "# Dot product using for - loop : time calculation\n",
    "start = time.time()\n",
    "dot_product(a,b)\n",
    "end = time.time()\n",
    "print(f\"time taken in Dot product using for - loop = {end-start:.4f} ms\")\n",
    "\n",
    "# Dot product using Vectorization : time calculation\n",
    "start = time.time()\n",
    "a.dot(b)\n",
    "end = time.time()\n",
    "print(f\"time taken in Dot product using Vectorization = {end-start:.4f} ms\")\n"
   ]
  },
  {
   "cell_type": "markdown",
   "metadata": {},
   "source": [
    "Matrix Calculation"
   ]
  },
  {
   "cell_type": "code",
   "execution_count": 52,
   "metadata": {},
   "outputs": [
    {
     "name": "stdout",
     "output_type": "stream",
     "text": [
      "array = [[0. 0.]], shape = (1, 2), data type = float64\n",
      "array = [[0.]\n",
      " [0.]], shape = (2, 1), data type = float64\n",
      "array = [[0.4001779  0.32989882]\n",
      " [0.37492043 0.28916464]], shape = (2, 2), data type = float64\n"
     ]
    }
   ],
   "source": [
    "a = np.zeros((1,2)); print_f(a)\n",
    "b = np.zeros((2,1)); print_f(b)\n",
    "c = np.random.random_sample((2,2)); print_f(c)"
   ]
  },
  {
   "cell_type": "code",
   "execution_count": 55,
   "metadata": {},
   "outputs": [
    {
     "name": "stdout",
     "output_type": "stream",
     "text": [
      "array = [0 1 2 3 4 5 6 7 8 9], shape = (10,), data type = int64\n",
      "array = [[0 1]\n",
      " [2 3]\n",
      " [4 5]\n",
      " [6 7]\n",
      " [8 9]], shape = (5, 2), data type = int64\n",
      "array = [[0 1 2 3 4]\n",
      " [5 6 7 8 9]], shape = (2, 5), data type = int64\n"
     ]
    }
   ],
   "source": [
    "a = np.arange(10); print_f(a)\n",
    "b = a.reshape((-1, 2)); print_f(b)\n",
    "c = a.reshape((2, -1)); print_f(c)"
   ]
  },
  {
   "cell_type": "markdown",
   "metadata": {},
   "source": [
    "-1 in reshape method calculates the number of elements along that axis according to original shape and number of elements along the other axes. For example, a has total 10 elements. So on doing reshape((-1, 2)), it will reshape the matrix in 2 columns and 10/2=5 rows. Similarly, reshape((2, -1)) will reshape the matrix in 2 rows and 10/2=5 columns."
   ]
  },
  {
   "cell_type": "code",
   "execution_count": 57,
   "metadata": {},
   "outputs": [
    {
     "ename": "ValueError",
     "evalue": "can only specify one unknown dimension",
     "output_type": "error",
     "traceback": [
      "\u001b[0;31m---------------------------------------------------------------------------\u001b[0m",
      "\u001b[0;31mValueError\u001b[0m                                Traceback (most recent call last)",
      "\u001b[1;32m/Users/rudra/Tech/coursera_ml_specialization/supervised_ml/python_numpy_and_vectorization.ipynb Cell 38'\u001b[0m in \u001b[0;36m<cell line: 2>\u001b[0;34m()\u001b[0m\n\u001b[1;32m      <a href='vscode-notebook-cell:/Users/rudra/Tech/coursera_ml_specialization/supervised_ml/python_numpy_and_vectorization.ipynb#ch0000037?line=0'>1</a>\u001b[0m \u001b[39m# This will throw an error\u001b[39;00m\n\u001b[0;32m----> <a href='vscode-notebook-cell:/Users/rudra/Tech/coursera_ml_specialization/supervised_ml/python_numpy_and_vectorization.ipynb#ch0000037?line=1'>2</a>\u001b[0m d \u001b[39m=\u001b[39m a\u001b[39m.\u001b[39;49mreshape((\u001b[39m-\u001b[39;49m\u001b[39m1\u001b[39;49m, \u001b[39m-\u001b[39;49m\u001b[39m1\u001b[39;49m)); print_f(d)\n",
      "\u001b[0;31mValueError\u001b[0m: can only specify one unknown dimension"
     ]
    }
   ],
   "source": [
    "# This will throw an error\n",
    "d = a.reshape((-1, -1)); print_f(d)"
   ]
  },
  {
   "cell_type": "code",
   "execution_count": null,
   "metadata": {},
   "outputs": [],
   "source": []
  }
 ],
 "metadata": {
  "interpreter": {
   "hash": "a03200ae361ba04b33dfbb7697ae27a1e19c2e9be6094bfaf79232177e8f3033"
  },
  "kernelspec": {
   "display_name": "Python 3.9.10",
   "language": "python",
   "name": "python3"
  },
  "language_info": {
   "codemirror_mode": {
    "name": "ipython",
    "version": 3
   },
   "file_extension": ".py",
   "mimetype": "text/x-python",
   "name": "python",
   "nbconvert_exporter": "python",
   "pygments_lexer": "ipython3",
   "version": "3.9.10"
  },
  "orig_nbformat": 4
 },
 "nbformat": 4,
 "nbformat_minor": 2
}
