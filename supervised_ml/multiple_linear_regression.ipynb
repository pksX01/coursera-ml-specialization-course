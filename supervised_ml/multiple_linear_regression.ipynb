{
 "cells": [
  {
   "cell_type": "code",
   "execution_count": 1,
   "metadata": {},
   "outputs": [],
   "source": [
    "base_path = '/Users/rudra/Tech/coursera_ml_specialization/supervised_ml/week1_course_materials/home/jovyan/work'\n",
    "import sys\n",
    "sys.path.insert(0, base_path)"
   ]
  },
  {
   "cell_type": "code",
   "execution_count": 4,
   "metadata": {},
   "outputs": [],
   "source": [
    "import copy, math\n",
    "import numpy as np\n",
    "import matplotlib.pyplot as plt\n",
    "plt.style.use(f'{base_path}/deeplearning.mplstyle')\n",
    "np.set_printoptions(precision=2)"
   ]
  },
  {
   "cell_type": "code",
   "execution_count": 47,
   "metadata": {},
   "outputs": [
    {
     "name": "stdout",
     "output_type": "stream",
     "text": [
      "Shape of X_train is (3, 4), Shape of y is (3,)\n"
     ]
    }
   ],
   "source": [
    "X_train = np.array([[2104, 5, 1, 45], [1416, 3, 2, 40], [852, 2, 1, 35]])\n",
    "y_train = np.array([460, 232, 178])\n",
    "print(f\"Shape of X_train is {X_train.shape}, Shape of y is {y.shape}\")"
   ]
  },
  {
   "cell_type": "code",
   "execution_count": 48,
   "metadata": {},
   "outputs": [
    {
     "name": "stdout",
     "output_type": "stream",
     "text": [
      "Shape of w_init is (4,), Type of b_init is <class 'float'>\n"
     ]
    }
   ],
   "source": [
    "b_init = 785.1811367994083\n",
    "w_init = np.array([0.39133535, 18.75376741, -53.36032453, -26.42131618])\n",
    "print(f\"Shape of w_init is {w_init.shape}, Type of b_init is {type(b_init)}\")"
   ]
  },
  {
   "cell_type": "markdown",
   "metadata": {},
   "source": [
    "Creating a decorator to calculate time taken by any function"
   ]
  },
  {
   "cell_type": "code",
   "execution_count": 49,
   "metadata": {},
   "outputs": [],
   "source": [
    "import time\n",
    "\n",
    "def time_calculator(func):\n",
    "    def time_taken(*args, **kwargs):\n",
    "        start = time.time()\n",
    "        f_wb = func(*args, **kwargs)\n",
    "        print(f\"After using {func.__name__} function: \\nShape of f_wb is {f_wb.shape}, Predictions are {f_wb}\")\n",
    "        end = time.time()\n",
    "        print(f\"Time taken is {end - start}\")\n",
    "    return time_taken"
   ]
  },
  {
   "cell_type": "markdown",
   "metadata": {},
   "source": [
    "Single Prediction element by element"
   ]
  },
  {
   "cell_type": "code",
   "execution_count": 50,
   "metadata": {},
   "outputs": [],
   "source": [
    "# Prediction for a single training example having multiple features\n",
    "@time_calculator\n",
    "def predict_single_loop(x, w, b):\n",
    "    m = x.shape[0]\n",
    "    f = 0\n",
    "    for i in range(m):\n",
    "        f += w[i] * x[i]\n",
    "    f = f + b\n",
    "    return f"
   ]
  },
  {
   "cell_type": "code",
   "execution_count": 51,
   "metadata": {},
   "outputs": [
    {
     "name": "stdout",
     "output_type": "stream",
     "text": [
      "Shape of x_vec is (4,), Values of x_vec are [2104    5    1   45]\n",
      "After using predict_single_loop function: \n",
      "Shape of f_wb is (), Predictions are 459.9999976194083\n",
      "Time taken is 1.9073486328125e-05\n"
     ]
    }
   ],
   "source": [
    "x_vec = X_train[0, :]\n",
    "print(f\"Shape of x_vec is {x_vec.shape}, Values of x_vec are {x_vec}\")\n",
    "\n",
    "predict_single_loop(x_vec, w_init, b_init)\n"
   ]
  },
  {
   "cell_type": "markdown",
   "metadata": {},
   "source": [
    "Single Prediction using Vectorized code"
   ]
  },
  {
   "cell_type": "code",
   "execution_count": 52,
   "metadata": {},
   "outputs": [],
   "source": [
    "@time_calculator\n",
    "def predict(x, w, b):\n",
    "    return np.dot(x, w) + b\n"
   ]
  },
  {
   "cell_type": "code",
   "execution_count": 53,
   "metadata": {},
   "outputs": [
    {
     "name": "stdout",
     "output_type": "stream",
     "text": [
      "Shape of x_vec is (4,), Values of x_vec are [2104    5    1   45]\n",
      "After using predict function: \n",
      "Shape of f_wb is (), Predictions are 459.99999761940825\n",
      "Time taken is 1.8835067749023438e-05\n"
     ]
    }
   ],
   "source": [
    "x_vec = X_train[0, :]\n",
    "print(f\"Shape of x_vec is {x_vec.shape}, Values of x_vec are {x_vec}\")\n",
    "\n",
    "predict(x_vec, w_init, b_init)"
   ]
  },
  {
   "cell_type": "markdown",
   "metadata": {},
   "source": [
    "Computing cost for multiple variables"
   ]
  },
  {
   "cell_type": "code",
   "execution_count": 62,
   "metadata": {},
   "outputs": [],
   "source": [
    "def compute_cost(x, y, w, b):\n",
    "    m = x.shape[0]\n",
    "    cost = 0.0\n",
    "    for i in range(m):\n",
    "        f_wb = np.dot(x[i], w) + b\n",
    "        cost += (f_wb - y[i]) ** 2\n",
    "    cost = cost / (2 * m)\n",
    "    return cost"
   ]
  },
  {
   "cell_type": "code",
   "execution_count": 63,
   "metadata": {},
   "outputs": [
    {
     "name": "stdout",
     "output_type": "stream",
     "text": [
      "cost is 1.5578904880036537e-12\n"
     ]
    }
   ],
   "source": [
    "cost = compute_cost(X_train, y_train, w_init, b_init)\n",
    "print(f\"cost is {cost}\")"
   ]
  },
  {
   "cell_type": "markdown",
   "metadata": {},
   "source": [
    "Gradient Descent with multiple variables"
   ]
  },
  {
   "cell_type": "code",
   "execution_count": 68,
   "metadata": {},
   "outputs": [],
   "source": [
    "def calculate_gradient(x, y, w, b):\n",
    "    m, n = x.shape\n",
    "    dj_dw = np.zeros((n))\n",
    "    dj_db = 0\n",
    "    for i in range(m):\n",
    "        f_wb = np.dot(x[i], w) + b\n",
    "        err = f_wb - y[i]\n",
    "        for j in range(n):\n",
    "            dj_dw[j] += err * x[i][j]\n",
    "        dj_db += err\n",
    "    dj_dw /= m\n",
    "    dj_db /= m\n",
    "    return dj_dw, dj_db"
   ]
  },
  {
   "cell_type": "code",
   "execution_count": 70,
   "metadata": {},
   "outputs": [
    {
     "name": "stdout",
     "output_type": "stream",
     "text": [
      "dj_dw at initial w and b: [-2.73e-03 -6.27e-06 -2.22e-06 -6.92e-05]\n",
      "dj_db at initial w and b: -1.673925169143331e-06\n"
     ]
    }
   ],
   "source": [
    "tmp_dj_dw, tmp_dj_db = calculate_gradient(X_train, y_train, w_init, b_init)\n",
    "print(f\"dj_dw at initial w and b: {tmp_dj_dw}\")\n",
    "print(f\"dj_db at initial w and b: {tmp_dj_db}\")"
   ]
  },
  {
   "cell_type": "code",
   "execution_count": 71,
   "metadata": {},
   "outputs": [],
   "source": [
    "def gradient_descent(x, y, w_in, b_in, cost_function, gradient_function, alpha, num_iters):\n",
    "    w = copy.deepcopy(w_in)\n",
    "    b = b_in\n",
    "    J_history = []\n",
    "   \n",
    "    for i in range(num_iters):\n",
    "        dj_dw, dj_db = gradient_function(x, y, w, b)\n",
    "        w = w - alpha * dj_dw\n",
    "        b = b - alpha * dj_db\n",
    "\n",
    "        if i < 100000:\n",
    "            J_history.append(cost_function(x, y, w, b))\n",
    "\n",
    "        # Print cost every at intervals 10 times or as many iterations if < 10\n",
    "        if i % math.ceil(num_iters / 10) == 0:\n",
    "            print(f\"Iterations {i:4d}: Cost = {J_history[-1]:8.2f}\")\n",
    "    \n",
    "    return w, b, J_history\n"
   ]
  },
  {
   "cell_type": "code",
   "execution_count": 73,
   "metadata": {},
   "outputs": [],
   "source": [
    "intial_w = np.zeros_like(w_init)\n",
    "intial_b = 0.\n",
    "\n",
    "iterations = 1000\n",
    "\n",
    "alpha = 5.0e-7"
   ]
  },
  {
   "cell_type": "code",
   "execution_count": 78,
   "metadata": {},
   "outputs": [
    {
     "name": "stdout",
     "output_type": "stream",
     "text": [
      "Iterations    0: Cost =  2529.46\n",
      "Iterations  100: Cost =   695.99\n",
      "Iterations  200: Cost =   694.92\n",
      "Iterations  300: Cost =   693.86\n",
      "Iterations  400: Cost =   692.81\n",
      "Iterations  500: Cost =   691.77\n",
      "Iterations  600: Cost =   690.73\n",
      "Iterations  700: Cost =   689.71\n",
      "Iterations  800: Cost =   688.70\n",
      "Iterations  900: Cost =   687.69\n",
      "final w found by gradient descent is [ 0.2   0.   -0.01 -0.07], final b found by gradient descent is -0.002\n"
     ]
    }
   ],
   "source": [
    "w_final, b_final, J_hist = gradient_descent(X_train, y_train, intial_w, intial_b, compute_cost, calculate_gradient, alpha, iterations)\n",
    "\n",
    "print(f\"final w found by gradient descent is {w_final}, final b found by gradient descent is {b_final:0.3f}\")"
   ]
  },
  {
   "cell_type": "code",
   "execution_count": 80,
   "metadata": {},
   "outputs": [
    {
     "name": "stdout",
     "output_type": "stream",
     "text": [
      "Prediced value = 426.19, Actual value  = 460\n",
      "Prediced value = 286.17, Actual value  = 232\n",
      "Prediced value = 171.47, Actual value  = 178\n"
     ]
    }
   ],
   "source": [
    "# Prediction on existing data using final w and b\n",
    "m = X_train.shape[0]\n",
    "for i in range(m):\n",
    "    pred = np.dot(X_train[i], w_final) + b_final\n",
    "    print(f\"Prediced value = {pred:0.2f}, Actual value  = {y_train[i]}\")"
   ]
  },
  {
   "cell_type": "code",
   "execution_count": 85,
   "metadata": {},
   "outputs": [
    {
     "data": {
      "image/png": "[encoded data removed]",
      "text/plain": [
       "<Figure size 864x288 with 2 Axes>"
      ]
     },
     "metadata": {},
     "output_type": "display_data"
    }
   ],
   "source": [
    "fig, (ax1, ax2) = plt.subplots(1, 2, constrained_layout = True, figsize = (12, 4))\n",
    "ax1.plot(J_hist)\n",
    "ax2.plot(100 + np.arange(len(J_hist[100:])), J_hist[100:])\n",
    "ax1.set_title('Cost vs Iterations'); ax2.set_title('Cost vs Iterations')\n",
    "ax1.set_xlabel('Iterations'); ax2.set_xlabel('Iterations')\n",
    "ax1.set_ylabel('Cost'); ax2.set_ylabel('Cost')\n",
    "plt.show()"
   ]
  },
  {
   "cell_type": "markdown",
   "metadata": {},
   "source": [
    "Cost is still declining and our predictions are not very accurate. We will explore further in next sections."
   ]
  },
  {
   "cell_type": "code",
   "execution_count": null,
   "metadata": {},
   "outputs": [],
   "source": []
  }
 ],
 "metadata": {
  "interpreter": {
   "hash": "a03200ae361ba04b33dfbb7697ae27a1e19c2e9be6094bfaf79232177e8f3033"
  },
  "kernelspec": {
   "display_name": "Python 3.9.10",
   "language": "python",
   "name": "python3"
  },
  "language_info": {
   "codemirror_mode": {
    "name": "ipython",
    "version": 3
   },
   "file_extension": ".py",
   "mimetype": "text/x-python",
   "name": "python",
   "nbconvert_exporter": "python",
   "pygments_lexer": "ipython3",
   "version": "3.9.10"
  },
  "orig_nbformat": 4
 },
 "nbformat": 4,
 "nbformat_minor": 2
}
