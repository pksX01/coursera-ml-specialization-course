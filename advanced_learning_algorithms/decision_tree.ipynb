{
 "cells": [
  {
   "cell_type": "code",
   "execution_count": 87,
   "metadata": {},
   "outputs": [],
   "source": [
    "import numpy as np"
   ]
  },
  {
   "cell_type": "code",
   "execution_count": 88,
   "metadata": {},
   "outputs": [],
   "source": [
    "X = np.array([[1,1,1], [1,0,1], [1,0,0], [1,0,0], [1,1,1], [0,1,1], [0,0,0], [1,0,1], [0,1,0], [1,0,0]])\n",
    "y = np.array([1,1,0,0,1,0,0,1,1,0])"
   ]
  },
  {
   "cell_type": "code",
   "execution_count": 89,
   "metadata": {},
   "outputs": [
    {
     "data": {
      "text/plain": [
       "(10, 3)"
      ]
     },
     "execution_count": 89,
     "metadata": {},
     "output_type": "execute_result"
    }
   ],
   "source": [
    "X.shape"
   ]
  },
  {
   "cell_type": "code",
   "execution_count": 90,
   "metadata": {},
   "outputs": [
    {
     "data": {
      "text/plain": [
       "(10,)"
      ]
     },
     "execution_count": 90,
     "metadata": {},
     "output_type": "execute_result"
    }
   ],
   "source": [
    "y.shape"
   ]
  },
  {
   "cell_type": "code",
   "execution_count": 91,
   "metadata": {},
   "outputs": [
    {
     "data": {
      "text/plain": [
       "array([[1, 1, 1],\n",
       "       [1, 0, 1],\n",
       "       [1, 0, 0],\n",
       "       [1, 0, 0],\n",
       "       [1, 1, 1]])"
      ]
     },
     "execution_count": 91,
     "metadata": {},
     "output_type": "execute_result"
    }
   ],
   "source": [
    "X[:5]"
   ]
  },
  {
   "cell_type": "code",
   "execution_count": 92,
   "metadata": {},
   "outputs": [
    {
     "data": {
      "text/plain": [
       "array([1, 1, 0, 0, 1])"
      ]
     },
     "execution_count": 92,
     "metadata": {},
     "output_type": "execute_result"
    }
   ],
   "source": [
    "y[:5]"
   ]
  },
  {
   "cell_type": "code",
   "execution_count": 93,
   "metadata": {},
   "outputs": [],
   "source": [
    "def calculate_entropy(y):\n",
    "    n = len(y)\n",
    "    if n == 0:\n",
    "        return 0\n",
    "    p = np.sum((y == 1)) / n\n",
    "\n",
    "    if p == 0 or p == 1:\n",
    "        H = 0\n",
    "    else:\n",
    "        H = -(p * np.log2(p)) - ((1-p) * np.log2(1-p))\n",
    "    return H"
   ]
  },
  {
   "cell_type": "code",
   "execution_count": 94,
   "metadata": {},
   "outputs": [
    {
     "data": {
      "text/plain": [
       "1.0"
      ]
     },
     "execution_count": 94,
     "metadata": {},
     "output_type": "execute_result"
    }
   ],
   "source": [
    "calculate_entropy(y)"
   ]
  },
  {
   "cell_type": "code",
   "execution_count": 95,
   "metadata": {},
   "outputs": [],
   "source": [
    "def split_dataset(X, node_indices, feature):\n",
    "    left_indices, right_indices = [], []\n",
    "    for i in node_indices:\n",
    "        if X[i, feature] == 1:\n",
    "            left_indices.append(i)\n",
    "        else:\n",
    "            right_indices.append(i)\n",
    "    return left_indices, right_indices"
   ]
  },
  {
   "cell_type": "code",
   "execution_count": 96,
   "metadata": {},
   "outputs": [
    {
     "name": "stdout",
     "output_type": "stream",
     "text": [
      "Left indices for feature 0:  [0, 1, 2, 3, 4, 7, 9]\n",
      "Right indices for feature 0:  [5, 6, 8]\n"
     ]
    }
   ],
   "source": [
    "root_indices = [0,1,2,3,4,5,6,7,8,9]\n",
    "left_indices, right_indices = split_dataset(X, root_indices, feature=0)\n",
    "print(\"Left indices for feature 0: \", left_indices)\n",
    "print(\"Right indices for feature 0: \", right_indices)"
   ]
  },
  {
   "cell_type": "code",
   "execution_count": 97,
   "metadata": {},
   "outputs": [],
   "source": [
    "def calc_info_gain(X, y, node_indices, feature):\n",
    "    left_indices, right_indices = split_dataset(X, node_indices, feature)\n",
    "    X_node, y_node = X[node_indices], y[node_indices]\n",
    "    X_left, y_left = X[left_indices], y[left_indices]\n",
    "    X_right, y_right = X[right_indices], y[right_indices]\n",
    "    H_node = calculate_entropy(y_node)\n",
    "    H_left = calculate_entropy(y_left)\n",
    "    H_right = calculate_entropy(y_right)\n",
    "    n_node = len(node_indices)\n",
    "    w_left = len(left_indices) / n_node\n",
    "    w_right = len(right_indices) / n_node\n",
    "\n",
    "    info_gain = H_node - ((w_left * H_left) + (w_right * H_right))\n",
    "    return info_gain"
   ]
  },
  {
   "cell_type": "code",
   "execution_count": 98,
   "metadata": {},
   "outputs": [
    {
     "data": {
      "text/plain": [
       "0.034851554559677034"
      ]
     },
     "execution_count": 98,
     "metadata": {},
     "output_type": "execute_result"
    }
   ],
   "source": [
    "calc_info_gain(X, y, root_indices, feature=0)"
   ]
  },
  {
   "cell_type": "code",
   "execution_count": 99,
   "metadata": {},
   "outputs": [
    {
     "data": {
      "text/plain": [
       "0.12451124978365313"
      ]
     },
     "execution_count": 99,
     "metadata": {},
     "output_type": "execute_result"
    }
   ],
   "source": [
    "calc_info_gain(X, y, root_indices, feature=1)"
   ]
  },
  {
   "cell_type": "code",
   "execution_count": 100,
   "metadata": {},
   "outputs": [
    {
     "data": {
      "text/plain": [
       "0.2780719051126377"
      ]
     },
     "execution_count": 100,
     "metadata": {},
     "output_type": "execute_result"
    }
   ],
   "source": [
    "calc_info_gain(X, y, root_indices, feature=2)"
   ]
  },
  {
   "cell_type": "code",
   "execution_count": 101,
   "metadata": {},
   "outputs": [],
   "source": [
    "def get_best_split(X, y, node_indices):\n",
    "    num_features = X.shape[1]\n",
    "    best_feature = -1\n",
    "    max_info_gain = 0\n",
    "    for feature in range(num_features):\n",
    "        curr_info_gain = calc_info_gain(X, y, node_indices, feature)\n",
    "        if curr_info_gain > max_info_gain:\n",
    "            max_info_gain = curr_info_gain\n",
    "            best_feature = feature\n",
    "    return best_feature"
   ]
  },
  {
   "cell_type": "code",
   "execution_count": 102,
   "metadata": {},
   "outputs": [
    {
     "data": {
      "text/plain": [
       "2"
      ]
     },
     "execution_count": 102,
     "metadata": {},
     "output_type": "execute_result"
    }
   ],
   "source": [
    "get_best_split(X, y, root_indices)"
   ]
  },
  {
   "cell_type": "code",
   "execution_count": 107,
   "metadata": {},
   "outputs": [],
   "source": [
    "tree = []\n",
    "def build_tree_recursive(X, y, node_indices, branch_name, max_depth, curr_depth):\n",
    "    if curr_depth == max_depth:\n",
    "        formatting = \" \" * curr_depth + \"-\" * curr_depth\n",
    "        print(f\"{formatting} {branch_name} leaf nodes with indices {node_indices}\")\n",
    "        return\n",
    "    \n",
    "    best_feature = get_best_split(X, y, node_indices)\n",
    "    tree.append((curr_depth, branch_name, best_feature, node_indices))\n",
    "\n",
    "    formatting = '-' * curr_depth\n",
    "    print(f\"{formatting} Depth {curr_depth}, {branch_name}: Split on feature: {best_feature}\")\n",
    "\n",
    "    left_indices, right_indices = split_dataset(X, node_indices, best_feature)\n",
    "\n",
    "    build_tree_recursive(X, y, left_indices, 'Left', max_depth, curr_depth+1)\n",
    "    build_tree_recursive(X, y, right_indices, \"Right\", max_depth, curr_depth+1)\n"
   ]
  },
  {
   "cell_type": "code",
   "execution_count": 108,
   "metadata": {},
   "outputs": [
    {
     "name": "stdout",
     "output_type": "stream",
     "text": [
      " Depth 0, Root: Split on feature: 2\n",
      "- Depth 1, Left: Split on feature: 0\n",
      "  -- Left leaf nodes with indices [0, 1, 4, 7]\n",
      "  -- Right leaf nodes with indices [5]\n",
      "- Depth 1, Right: Split on feature: 1\n",
      "  -- Left leaf nodes with indices [8]\n",
      "  -- Right leaf nodes with indices [2, 3, 6, 9]\n"
     ]
    }
   ],
   "source": [
    "build_tree_recursive(X, y, root_indices, \"Root\", max_depth=2, curr_depth=0)"
   ]
  },
  {
   "cell_type": "code",
   "execution_count": 109,
   "metadata": {},
   "outputs": [
    {
     "data": {
      "text/plain": [
       "[(0, 'Root', 2, [0, 1, 2, 3, 4, 5, 6, 7, 8, 9]),\n",
       " (1, 'Left', 0, [0, 1, 4, 5, 7]),\n",
       " (1, 'Right', 1, [2, 3, 6, 8, 9])]"
      ]
     },
     "execution_count": 109,
     "metadata": {},
     "output_type": "execute_result"
    }
   ],
   "source": [
    "tree"
   ]
  },
  {
   "cell_type": "code",
   "execution_count": null,
   "metadata": {},
   "outputs": [],
   "source": []
  }
 ],
 "metadata": {
  "interpreter": {
   "hash": "a03200ae361ba04b33dfbb7697ae27a1e19c2e9be6094bfaf79232177e8f3033"
  },
  "kernelspec": {
   "display_name": "Python 3.9.10",
   "language": "python",
   "name": "python3"
  },
  "language_info": {
   "codemirror_mode": {
    "name": "ipython",
    "version": 3
   },
   "file_extension": ".py",
   "mimetype": "text/x-python",
   "name": "python",
   "nbconvert_exporter": "python",
   "pygments_lexer": "ipython3",
   "version": "3.9.10"
  },
  "orig_nbformat": 4
 },
 "nbformat": 4,
 "nbformat_minor": 2
}
